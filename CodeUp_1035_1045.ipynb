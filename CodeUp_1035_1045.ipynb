{
 "cells": [
  {
   "cell_type": "code",
   "execution_count": null,
   "metadata": {},
   "outputs": [],
   "source": [
    "#1035\n",
    "# 16진수로 입력된 정수 1개를 8진수로 바꾸어 출력해보자 \n",
    "\n",
    "hexa = input()\n",
    "hexa = int(hexa, 16) # int(x, 16) # 정수 x를 16진수로 바꿔준다 \n",
    "print('%o' %hexa)"
   ]
  },
  {
   "cell_type": "code",
   "execution_count": 1,
   "metadata": {},
   "outputs": [
    {
     "name": "stdout",
     "output_type": "stream",
     "text": [
      "A\n",
      "65\n"
     ]
    }
   ],
   "source": [
    "# 1036 \n",
    "# 영문자 1개를 이어받아 아스키코드표 10진수 값으로 출력해보자 \n",
    "# 문자 <-> 아스키코드 \n",
    "\n",
    "# 문자 -> 아스키코드 : ord()\n",
    "# 아스키코드 -> 문자 : chr()\n",
    "\n",
    "charac = input()\n",
    "print(ord(charac))\n"
   ]
  },
  {
   "cell_type": "code",
   "execution_count": 3,
   "metadata": {},
   "outputs": [
    {
     "name": "stdout",
     "output_type": "stream",
     "text": [
      "99\n",
      "c\n"
     ]
    }
   ],
   "source": [
    "#1037 \n",
    "# 10진수 정수 1개를 입력받아 아스키 문자로 출력해보자 \n",
    "\n",
    "integ = input()\n",
    "integ = int(integ)\n",
    "print(chr(integ))"
   ]
  },
  {
   "cell_type": "code",
   "execution_count": 7,
   "metadata": {},
   "outputs": [
    {
     "name": "stdout",
     "output_type": "stream",
     "text": [
      "170 180\n",
      "350\n"
     ]
    }
   ],
   "source": [
    "#1038 \n",
    "# 정수 2개를 입력받아 합을 출력하는 프로그램을 작성해보자.\n",
    "\n",
    "a, b = input().split()\n",
    "a = int(a) # 이 과정을 거치지 않으면 정수도 문자열로 인식되어 a = 170, b = 180, a + b = 170180으로 리턴되는 참사가 일어남 \n",
    "b = int(b)\n",
    "print(a + b)\n",
    "\n",
    "# answer 2 \n",
    "\n",
    "n1, n2 = map(int, input().split())\n",
    "print(n1 + n2)\n",
    "\n",
    "# map 함수 사용 \n",
    "# list(map(함수, 리스트))\n",
    "# tuple(map(함수, 튜플))\n",
    "\n",
    "# input().split()의 결과가 문자열일 때 map을 사용할 수 있다 \n",
    "\n",
    "# a = input().split()\n",
    "# (입력) x1, x2 \n",
    "# a = ['x1', x2] #이렇게 정수가 2개 들어간 리스트가 만들어 지고 \n",
    "# 출력 \n",
    "# a = map(int, input().split()) \n",
    "# a #<map object at 0x03DFB0D0>\n",
    "# list(a) # [x1, x2]\n",
    "\n",
    "# a,b = map(int, input().split()) 풀어서 쓰면: \n",
    "# x = input().split()\n",
    "# m = map(int, x)\n",
    "# a, b = m "
   ]
  },
  {
   "cell_type": "code",
   "execution_count": null,
   "metadata": {},
   "outputs": [],
   "source": [
    "#1039 \n",
    "# 정수 2개 입력받아 합출력하기 \n",
    "# 1038과 같다 "
   ]
  },
  {
   "cell_type": "code",
   "execution_count": 11,
   "metadata": {},
   "outputs": [
    {
     "name": "stdout",
     "output_type": "stream",
     "text": [
      "8\n",
      "-8\n"
     ]
    }
   ],
   "source": [
    "# 1040 \n",
    "# 입력된 정수의 부호를 바꿔 출력해보자 \n",
    "\n",
    "a = input()\n",
    "print(-int(a))"
   ]
  },
  {
   "cell_type": "code",
   "execution_count": 12,
   "metadata": {},
   "outputs": [
    {
     "name": "stdout",
     "output_type": "stream",
     "text": [
      "A\n",
      "B\n"
     ]
    }
   ],
   "source": [
    "#1041\n",
    "\n",
    "a = input()\n",
    "a = ord(a) + 1\n",
    "print(chr(a))"
   ]
  },
  {
   "cell_type": "code",
   "execution_count": 14,
   "metadata": {},
   "outputs": [
    {
     "name": "stdout",
     "output_type": "stream",
     "text": [
      "5 2\n",
      "2\n"
     ]
    }
   ],
   "source": [
    "#1042\n",
    "\n",
    "a, b = map(int, input().split())\n",
    "print(a//b)"
   ]
  },
  {
   "cell_type": "code",
   "execution_count": 15,
   "metadata": {},
   "outputs": [
    {
     "name": "stdout",
     "output_type": "stream",
     "text": [
      "5 2\n",
      "1\n"
     ]
    }
   ],
   "source": [
    "#1043\n",
    "# 정수 2개(a, b) 를 입력받아 a를 b로 나눈 나머지를 출력해보자. \n",
    "\n",
    "a, b = map(int, input().split())\n",
    "print(a%b)"
   ]
  },
  {
   "cell_type": "code",
   "execution_count": 18,
   "metadata": {},
   "outputs": [
    {
     "name": "stdout",
     "output_type": "stream",
     "text": [
      "2147483647\n",
      "2147483648\n"
     ]
    }
   ],
   "source": [
    "#1044\n",
    "# 정수를 1개 입력받아 1만큼 더해 출력해보자.\n",
    "\n",
    "a = input()\n",
    "a = int(a)\n",
    "print(a+1)"
   ]
  },
  {
   "cell_type": "code",
   "execution_count": 27,
   "metadata": {},
   "outputs": [
    {
     "name": "stdout",
     "output_type": "stream",
     "text": [
      "5 2\n",
      "7\n",
      "3\n",
      "10\n",
      "2\n",
      "1\n",
      "2.50\n"
     ]
    }
   ],
   "source": [
    "# 1045 \n",
    "# 정수 2개(a, b)를 입력받아 합, 차, 곱, 몫, 나머지, 나눈 값을 자동으로 계산해보자. \n",
    "\n",
    "def cal(a, b): \n",
    "    print(a + b) \n",
    "    print(a - b) \n",
    "    print(a*b)\n",
    "    print(a//b)\n",
    "    print(a%b)\n",
    "    ab = a/b\n",
    "    print('%.2f' % ab)\n",
    "  \n",
    "a, b = map(int, input().split())\n",
    "cal(a,b)\n"
   ]
  }
 ],
 "metadata": {
  "kernelspec": {
   "display_name": "Python 3",
   "language": "python",
   "name": "python3"
  },
  "language_info": {
   "codemirror_mode": {
    "name": "ipython",
    "version": 3
   },
   "file_extension": ".py",
   "mimetype": "text/x-python",
   "name": "python",
   "nbconvert_exporter": "python",
   "pygments_lexer": "ipython3",
   "version": "3.7.6"
  }
 },
 "nbformat": 4,
 "nbformat_minor": 4
}
