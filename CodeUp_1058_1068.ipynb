{
 "cells": [
  {
   "cell_type": "code",
   "execution_count": 3,
   "metadata": {},
   "outputs": [
    {
     "name": "stdout",
     "output_type": "stream",
     "text": [
      "0 1\n",
      "0\n"
     ]
    }
   ],
   "source": [
    "#1058 \n",
    "# 둘 다 거짓일 경우만 참 출력하기 \n",
    "\n",
    "a, b = map(int, input().split())\n",
    "\n",
    "if a == 0 and a == b: \n",
    "    print(1)\n",
    "else: \n",
    "    print(0)"
   ]
  },
  {
   "cell_type": "code",
   "execution_count": 7,
   "metadata": {},
   "outputs": [
    {
     "name": "stdout",
     "output_type": "stream",
     "text": [
      "1\n",
      "-2\n"
     ]
    }
   ],
   "source": [
    "#1059 \n",
    "# 입력 된 정수를 비트단위로 참/거짓을 바꾼 후 정수로 출력해보자.\n",
    "# 비트단위(bitwise)연산자 ~ 를 붙이면 된다.(~ : tilde, 틸드라고 읽는다.)\n",
    "\n",
    "# 입력: 정수 1개가 입력된다. -2147483648 ~ +2147483647 \n",
    "# 출력: 비트 단위로 1 -> 0, 0 -> 1로 바꾼 후 그 값을 10진수로 출력한다.\n",
    "\n",
    "# A.\n",
    "n1 = int(input())\n",
    "print(~n1)"
   ]
  },
  {
   "cell_type": "code",
   "execution_count": 8,
   "metadata": {},
   "outputs": [
    {
     "name": "stdout",
     "output_type": "stream",
     "text": [
      "3 5\n",
      "1\n"
     ]
    }
   ],
   "source": [
    "#1060 \n",
    "# 기초-비트단위논리연산] 비트단위로 AND 하여 출력하기\n",
    "\n",
    "# 입력된 정수 두 개를 비트단위로 and 연산한 후 그 결과를 정수로 출력해보자.\n",
    "# 비트단위(bitwise)연산자 &를 사용하면 된다.(and, ampersand, 앰퍼센드라고 읽는다.)\n",
    "\n",
    "# 입력: 2개의 정수가 공백을 두고 입력된다.-2147483648 ~ +2147483647 \n",
    "# 출력: 두 정수를 비트단위(bitwise)로 and 계산을 수행한 결과를 10진수로 출력한다.\n",
    "\n",
    "a, b = map(int, input().split())\n",
    "print(a & b)\n",
    "\n",
    "\n",
    "# ** 비트단위(bitwise)연산자는,\n",
    "# ~(bitwise not), &(bitwise and), |(bitwise or), ^(bitwise xor),\n",
    "# <<(bitwise left shift), >>(bitwise right shift)\n",
    "# 가 있다."
   ]
  },
  {
   "cell_type": "code",
   "execution_count": 9,
   "metadata": {},
   "outputs": [
    {
     "name": "stdout",
     "output_type": "stream",
     "text": [
      "3 5\n",
      "7\n"
     ]
    }
   ],
   "source": [
    "#1061 \n",
    "# 비트단위로 OR 하여 출력하기\n",
    "# 입력된 정수 두 개를 비트단위로 or 연산한 후 그 결과를 정수로 출력해보자.\n",
    "# 비트단위(bitwise) 연산자 |(or, vertical bar, 버티컬바)를 사용하면 된다.\n",
    "\n",
    "# ** | 은 파이프(pipe)연산자라고도 불리는 경우가 있다.\n",
    "\n",
    "# 입력: 2개의 정수가 공백을 두고 입력된다.\n",
    "# -2147483648 ~ +2147483647 \n",
    "# 출력: 두 정수를 비트단위(bitwise)로 or 계산을 수행한 결과를 10진수로 출력한다.\n",
    "\n",
    "a, b = map(int, input().split())\n",
    "print(a|b)"
   ]
  },
  {
   "cell_type": "code",
   "execution_count": 10,
   "metadata": {},
   "outputs": [
    {
     "name": "stdout",
     "output_type": "stream",
     "text": [
      "3 5\n",
      "6\n"
     ]
    }
   ],
   "source": [
    "#1062 \n",
    "# 비트단위로 XOR 하여 출력하기\n",
    "# 입력된 정수 두 개를 비트단위로 xor 연산한 후 그 결과를 정수로 출력해보자.\n",
    "# 비트단위(bitwise) 연산자 ^(xor, circumflex/caret, 서컴플렉스/카릿)를 사용하면 된다.\n",
    "\n",
    "# ** 주의 ^은 수학식에서 거듭제곱(power)을 나타내는 기호와 모양은 같지만,\n",
    "# C언어에서는 전혀 다른 배타적 논리합(xor, 서로 다를 때 1)의 의미를 가진다.\n",
    "\n",
    "# 입력: 2개의 정수가 공백을 두고 입력된다.-2147483648 ~ +2147483647\n",
    "# 출력: 두 정수를 비트단위(bitwise)로 xor 계산을 수행한 결과를 10진수로 출력한다.\n",
    "\n",
    "a, b = map(int, input().split())\n",
    "print(a^b)"
   ]
  },
  {
   "cell_type": "code",
   "execution_count": null,
   "metadata": {},
   "outputs": [],
   "source": [
    "# 1063 \n",
    "# 두 정수 입력받아 큰 수 출력하기\n",
    "\n",
    "# 입력된 두 정수 a, b 중 큰 값을 출력하는 프로그램을 작성해보자.\n",
    "# 단, 조건문을 사용하지 않고 3항 연산자 ? 를 사용한다.\n",
    "\n",
    "# 입력: 두 정수가 공백을 두고 입력된다.-2147483648 ~ +2147483647\n",
    "# 출력: 두 정수 중 큰 값을 10진수로 출력한다.\n",
    "\n",
    "a, b =map(int, input().split())\n",
    "\n",
    "if a > b: \n",
    "    print(a)\n",
    "else: \n",
    "    print(b)\n"
   ]
  },
  {
   "cell_type": "code",
   "execution_count": 14,
   "metadata": {},
   "outputs": [
    {
     "name": "stdout",
     "output_type": "stream",
     "text": [
      "1 2 3\n",
      "1\n"
     ]
    }
   ],
   "source": [
    "# 1064 \n",
    "# 정수 3개 입력받아 가장 작은 수 출력하기\n",
    "# 입력된 세 정수 a, b, c 중 가장 작은 값을 출력하는 프로그램을 작성해보자.\n",
    "\n",
    "a, b, c = map(int, input().split())\n",
    "print(min(a,b,c))\n",
    "\n"
   ]
  },
  {
   "cell_type": "code",
   "execution_count": 17,
   "metadata": {},
   "outputs": [
    {
     "name": "stdout",
     "output_type": "stream",
     "text": [
      "2 2 2 \n",
      "2\n",
      "2\n",
      "2\n"
     ]
    }
   ],
   "source": [
    "#1065 \n",
    "# 세 정수 a, b, c가 입력되었을 때, 짝수만 출력해보자.\n",
    "\n",
    "a, b, c = map(int, input().split())\n",
    "\n",
    "for i in a,b,c: \n",
    "    if i%2 == 0: \n",
    "        print(i)\n"
   ]
  },
  {
   "cell_type": "code",
   "execution_count": 20,
   "metadata": {},
   "outputs": [
    {
     "name": "stdout",
     "output_type": "stream",
     "text": [
      "1 2 3\n",
      "odd\n",
      "even\n",
      "odd\n"
     ]
    }
   ],
   "source": [
    "#1066 \n",
    "# 세 정수 a, b, c가 입력되었을 때, 짝(even)/홀(odd)을 출력해보자.\n",
    "# 입력된 순서대로 짝(even)/홀(odd)을 줄을 바꿔 출력한다. \n",
    "\n",
    "a, b, c = map(int, input().split())\n",
    "\n",
    "for i in a,b,c: \n",
    "    if i%2 == 0: \n",
    "        print('even')\n",
    "    elif i%2 == 1:\n",
    "        print('odd')"
   ]
  },
  {
   "cell_type": "code",
   "execution_count": 22,
   "metadata": {},
   "outputs": [
    {
     "name": "stdout",
     "output_type": "stream",
     "text": [
      "-8\n",
      "minus\n",
      "even\n"
     ]
    }
   ],
   "source": [
    "#1067\n",
    "# 정수 1개 입력받아 분석하기\n",
    "# 정수 1개가 입력되었을 때, 음(minus)/양(plus)과 짝(even)/홀(odd)을 출력해보자.\n",
    "\n",
    "a = int(input())\n",
    "\n",
    "if a > 0: \n",
    "    print('plus')\n",
    "else: \n",
    "    print('minus')\n",
    "if a%2 == 0: \n",
    "    print('even')\n",
    "else: \n",
    "    print('odd')\n"
   ]
  },
  {
   "cell_type": "code",
   "execution_count": 25,
   "metadata": {},
   "outputs": [
    {
     "name": "stdout",
     "output_type": "stream",
     "text": [
      "32\n",
      "D\n"
     ]
    }
   ],
   "source": [
    "#1068 \n",
    "# 정수 1개 입력받아 평가 출력하기\n",
    "# 점수(정수, 0 ~ 100)를 입력받아 평가를 출력해보자\n",
    "\n",
    "a = int(input())\n",
    "\n",
    "if a >= 90: \n",
    "    print('A')\n",
    "elif  a >= 70: \n",
    "    print('B')\n",
    "elif a >= 40: \n",
    "    print('C')\n",
    "else: \n",
    "    print('D')\n",
    "\n",
    "\n",
    "# if a >= 90: \n",
    "#     print('A')\n",
    "# elif  a >= 70 and a <= 89: \n",
    "#     print('B')\n",
    "# elif a >= 69 and a <= 40: \n",
    "#     print('C')\n",
    "# else: \n",
    "#     print('D')\n"
   ]
  }
 ],
 "metadata": {
  "kernelspec": {
   "display_name": "Python 3",
   "language": "python",
   "name": "python3"
  },
  "language_info": {
   "codemirror_mode": {
    "name": "ipython",
    "version": 3
   },
   "file_extension": ".py",
   "mimetype": "text/x-python",
   "name": "python",
   "nbconvert_exporter": "python",
   "pygments_lexer": "ipython3",
   "version": "3.7.6"
  }
 },
 "nbformat": 4,
 "nbformat_minor": 4
}
