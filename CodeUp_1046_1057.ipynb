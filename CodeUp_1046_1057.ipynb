{
 "cells": [
  {
   "cell_type": "code",
   "execution_count": 2,
   "metadata": {},
   "outputs": [
    {
     "name": "stdout",
     "output_type": "stream",
     "text": [
      "1 2 3 \n",
      "6\n",
      "2.00\n"
     ]
    }
   ],
   "source": [
    "# 1046 \n",
    "# 정수 3개를 입력받아 합과 평균을 출력 \n",
    "\n",
    "a, b, c = map(int, input().split()) \n",
    "print(a+b+c)\n",
    "avg_abc = (a+b+c)/3\n",
    "print('%.1f'%avg_abc) "
   ]
  },
  {
   "cell_type": "code",
   "execution_count": 3,
   "metadata": {},
   "outputs": [
    {
     "name": "stdout",
     "output_type": "stream",
     "text": [
      "2\n",
      "4\n"
     ]
    }
   ],
   "source": [
    "#1047 \n",
    "# 정수 1개를 입력받아 2배 곱해 출력해보자 \n",
    "\n",
    "a = input()\n",
    "a = int(a) * 2 \n",
    "print(a)\n",
    "\n"
   ]
  },
  {
   "cell_type": "code",
   "execution_count": 4,
   "metadata": {},
   "outputs": [
    {
     "name": "stdout",
     "output_type": "stream",
     "text": [
      "1 2\n",
      "4\n"
     ]
    }
   ],
   "source": [
    "#1048 \n",
    "# 정수 2개(a,b)를 입력받아 a를 2^b배 곱한 값으로 출력해보자 \n",
    "\n",
    "a, b = map(int, input().split())\n",
    "a = a * 2 ** b \n",
    "print(a)"
   ]
  },
  {
   "cell_type": "code",
   "execution_count": 6,
   "metadata": {},
   "outputs": [
    {
     "name": "stdout",
     "output_type": "stream",
     "text": [
      "3 4 \n",
      "0\n"
     ]
    }
   ],
   "source": [
    "#1049 \n",
    "# 두 정수(a, b)를 입력받아\n",
    "# a가 b보다 크면 1을, a가 b보다 작거나 같으면 0을 출력하는 프로그램을 작성해보자.\n",
    "\n",
    "a, b =  map(int, input().split()) \n",
    "\n",
    "if a > b: \n",
    "    print(1) \n",
    "else: \n",
    "    print(0) "
   ]
  },
  {
   "cell_type": "code",
   "execution_count": 7,
   "metadata": {},
   "outputs": [
    {
     "name": "stdout",
     "output_type": "stream",
     "text": [
      "4 4\n",
      "1\n"
     ]
    }
   ],
   "source": [
    "#1050 \n",
    "# 두 정수(a, b)를 입력받아\n",
    "# a와 b가 같으면 1을, 같지 않으면 0을 출력하는 프로그램을 작성해보자.\n",
    "\n",
    "a,b = map(int, input().split())\n",
    "\n",
    "if a == b:\n",
    "    print(1)\n",
    "else: \n",
    "    print(0)"
   ]
  },
  {
   "cell_type": "code",
   "execution_count": 8,
   "metadata": {},
   "outputs": [
    {
     "name": "stdout",
     "output_type": "stream",
     "text": [
      "3 5\n",
      "1\n"
     ]
    }
   ],
   "source": [
    "#1051 \n",
    "# 두 정수(a,b)를 입력받아 \n",
    "# b가 a보다 크거나 같으면 1을, 그렇지 않으면 0을 출력하는 프로그램을 작성해보자 \n",
    "\n",
    "a, b = map(int, input().split())\n",
    "\n",
    "if b >= a: \n",
    "    print(1)\n",
    "else: \n",
    "    print(0)"
   ]
  },
  {
   "cell_type": "code",
   "execution_count": 9,
   "metadata": {},
   "outputs": [
    {
     "name": "stdout",
     "output_type": "stream",
     "text": [
      "6 7\n",
      "1\n"
     ]
    }
   ],
   "source": [
    "# 1052 \n",
    "# 두 정수(a, b)를 입력받아\n",
    "# a와 b가 서로 다르면 1을, 그렇지 않으면 0을 출력하는 프로그램을 작성해보자.\n",
    "\n",
    "a, b = map(int, input().split())\n",
    "\n",
    "if a != b: \n",
    "    print(1)\n",
    "else: \n",
    "    print(0)"
   ]
  },
  {
   "cell_type": "code",
   "execution_count": 10,
   "metadata": {},
   "outputs": [
    {
     "name": "stdout",
     "output_type": "stream",
     "text": [
      "1\n",
      "0\n"
     ]
    }
   ],
   "source": [
    "# 1053 \n",
    "# 1(true, 참) 또는 0(false, 거짓) 이 입력되었을 때\n",
    "# 반대로 출력하는 프로그램을 작성해보자.\n",
    "\n",
    "a = int(input())\n",
    "\n",
    "if not a == True: # 참이 아니면 \n",
    "    print(1) # 1을 출력 \n",
    "else: \n",
    "    print(0)\n"
   ]
  },
  {
   "cell_type": "code",
   "execution_count": 11,
   "metadata": {},
   "outputs": [
    {
     "name": "stdout",
     "output_type": "stream",
     "text": [
      "1\n",
      "0\n"
     ]
    }
   ],
   "source": [
    "# 1053 다른 풀이 (bool 사용)\n",
    "# 1(true, 참) 또는 0(false, 거짓) 이 입력되었을 때\n",
    "# 반대로 출력하는 프로그램을 작성해보자.\n",
    "\n",
    "a = input()\n",
    "\n",
    "x = int(a)\n",
    "b = bool(x)\n",
    "x = int(not b)\n",
    "print(x)"
   ]
  },
  {
   "cell_type": "code",
   "execution_count": 12,
   "metadata": {},
   "outputs": [
    {
     "name": "stdout",
     "output_type": "stream",
     "text": [
      "1 0\n",
      "0\n"
     ]
    }
   ],
   "source": [
    "# 1054 \n",
    "# 두 개의 참(1) 또는 거짓(0)이 입력될 때,\n",
    "# 모두 참일 때에만 참을 출력하는 프로그램을 작성해보자.\n",
    "\n",
    "a, b = map(int, input().split())\n",
    "\n",
    "if a == b: \n",
    "    if a == 1: \n",
    "        print(1)\n",
    "    else: \n",
    "        print(0)\n",
    "else: \n",
    "    print(0)"
   ]
  },
  {
   "cell_type": "code",
   "execution_count": 13,
   "metadata": {},
   "outputs": [
    {
     "name": "stdout",
     "output_type": "stream",
     "text": [
      "1 0\n",
      "1\n"
     ]
    }
   ],
   "source": [
    "# 1055 \n",
    "# 두 개의 참(1) 또는 거짓(0)이 입력될 때,\n",
    "# 하나라도 참이면 참을 출력하는 프로그램을 작성해보자.\n",
    "\n",
    "# 내 풀이 -> 뭔가 더 좋은게 있어야한다 \n",
    "# 틀림=> 왜? \n",
    "a, b = map(int, input().split())\n",
    "\n",
    "if a == 1: \n",
    "    print(1)\n",
    "elif b == 1: \n",
    "    print(1)\n",
    "elif a == b: \n",
    "    print(1)\n",
    "else: \n",
    "    print(0)"
   ]
  },
  {
   "cell_type": "code",
   "execution_count": 14,
   "metadata": {},
   "outputs": [
    {
     "name": "stdout",
     "output_type": "stream",
     "text": [
      "1 0\n",
      "1\n"
     ]
    }
   ],
   "source": [
    "# 1055 \n",
    "a, b = map(int, input().split())\n",
    "\n",
    "if a or b == True: \n",
    "    print(1)\n",
    "else: \n",
    "    print(0)"
   ]
  },
  {
   "cell_type": "code",
   "execution_count": 16,
   "metadata": {},
   "outputs": [
    {
     "name": "stdout",
     "output_type": "stream",
     "text": [
      "1 1\n",
      "0\n"
     ]
    }
   ],
   "source": [
    "# 1056 \n",
    "\n",
    "a, b = map(int, input().split())\n",
    "\n",
    "if a != b:\n",
    "    print(1)\n",
    "else: \n",
    "    print(0)"
   ]
  },
  {
   "cell_type": "code",
   "execution_count": 20,
   "metadata": {},
   "outputs": [
    {
     "name": "stdout",
     "output_type": "stream",
     "text": [
      "0 1\n",
      "0\n"
     ]
    }
   ],
   "source": [
    "# 1057 \n",
    "# 두 개의 참(1) 또는 거짓(0)이 입력될 때,\n",
    "# 참/거짓이 서로 같을 때에만 참이 계산되는 프로그램을 작성해보자.\n",
    "\n",
    "a, b = map(int, input().split())\n",
    "\n",
    "if a == b: \n",
    "    print(1)\n",
    "else: \n",
    "    print(0)\n",
    "    "
   ]
  }
 ],
 "metadata": {
  "kernelspec": {
   "display_name": "Python 3",
   "language": "python",
   "name": "python3"
  },
  "language_info": {
   "codemirror_mode": {
    "name": "ipython",
    "version": 3
   },
   "file_extension": ".py",
   "mimetype": "text/x-python",
   "name": "python",
   "nbconvert_exporter": "python",
   "pygments_lexer": "ipython3",
   "version": "3.7.6"
  }
 },
 "nbformat": 4,
 "nbformat_minor": 4
}
