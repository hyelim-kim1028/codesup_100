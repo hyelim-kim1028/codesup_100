{
 "cells": [
  {
   "cell_type": "code",
   "execution_count": null,
   "metadata": {},
   "outputs": [],
   "source": [
    "# April 20, 2020 \n",
    "# CodeUp 기초 100제 풀이 \n",
    "# problem #1024 ~ #1034 "
   ]
  },
  {
   "cell_type": "code",
   "execution_count": 1,
   "metadata": {},
   "outputs": [],
   "source": [
    "#1024 \n",
    "# 단어를 1개 입력받는다. 입력받은 단어(영어)의 각 문자를한줄에 한 문자씩 분리해 출력한다.\n",
    "\n",
    "def strList(word): \n",
    "    strList2 = list(word)\n",
    "    # list(word) => list('boy') = ['b', 'o','y'] 로 출력 \n",
    "    for i in strList2: \n",
    "        print(\"'%c'\" %i) # %i로 i를 이어붙이기 \n",
    "        # %c = 문자열 1개의 포맷 코드 \n",
    "        "
   ]
  },
  {
   "cell_type": "code",
   "execution_count": 3,
   "metadata": {},
   "outputs": [
    {
     "name": "stdout",
     "output_type": "stream",
     "text": [
      "'b'\n",
      "'o'\n",
      "'y'\n"
     ]
    }
   ],
   "source": [
    "strList('boy')"
   ]
  },
  {
   "cell_type": "code",
   "execution_count": 7,
   "metadata": {},
   "outputs": [
    {
     "name": "stdout",
     "output_type": "stream",
     "text": [
      "['b', 'o', 'y']\n"
     ]
    }
   ],
   "source": [
    "print(list('boy'))"
   ]
  },
  {
   "cell_type": "code",
   "execution_count": 5,
   "metadata": {},
   "outputs": [],
   "source": [
    "def sample(word):\n",
    "    for c in word: \n",
    "        print(\"'\" +c+ \"''\")\n",
    "\n",
    "        # c를 '' 로 감싸서 +로 연결해줌 "
   ]
  },
  {
   "cell_type": "code",
   "execution_count": 6,
   "metadata": {},
   "outputs": [
    {
     "name": "stdout",
     "output_type": "stream",
     "text": [
      "'b''\n",
      "'o''\n",
      "'y''\n"
     ]
    }
   ],
   "source": [
    "sample('boy')"
   ]
  },
  {
   "cell_type": "code",
   "execution_count": 11,
   "metadata": {},
   "outputs": [
    {
     "name": "stdout",
     "output_type": "stream",
     "text": [
      "I eat 3 apples\n"
     ]
    }
   ],
   "source": [
    "# formatting using '%'\n",
    "number = 3 \n",
    "apples = \"I eat %d apples\" % number \n",
    "print(apples)\n",
    "# https://wikidocs.net/13 "
   ]
  },
  {
   "cell_type": "code",
   "execution_count": null,
   "metadata": {},
   "outputs": [],
   "source": [
    "# formatting using format()\n",
    "format_apples = \"I eat {0} apples\".format(3)\n",
    "print(format_apples)\n",
    "# format() changes what is in {}"
   ]
  },
  {
   "cell_type": "code",
   "execution_count": 13,
   "metadata": {},
   "outputs": [],
   "source": [
    "#1025 \n",
    "#다섯 자리의 정수 1개를 입력받아 각 자리별로 나누어 출력한다. \n",
    "\n",
    "# 입력 : 75254 # 출력: 7000, 5000, 200, 50, 4 \n",
    "\n",
    "# int_value = input()\n",
    "\n",
    "# list_int = [] # 7,5,2,5,4\n",
    "\n",
    "# for i in int_value: \n",
    "#     list_int.append()\n",
    "    \n",
    "# print('[{0}]'.format(int(list_int[0]) * 10000))\n",
    "# print('[{0}]'.format(int(list_int[1]) * 1000))\n",
    "# print('[{0}]'.format(int(list_int[2]) * 100))\n",
    "# print('[{0}]'.format(int(list_int[3]) * 10))\n",
    "# print('[{0}]'.format(int(list_int[4]) * 1))\n",
    "\n"
   ]
  },
  {
   "cell_type": "code",
   "execution_count": 14,
   "metadata": {},
   "outputs": [],
   "source": [
    "# def INTS(ints):\n",
    "#     list_int = []\n",
    "    \n",
    "#     for i in ints: \n",
    "#         list_int.append()\n",
    "    \n",
    "#     '[{0}]'.format(int(list_int[0]) * 10000)\n",
    "#     '[{0}]'.format(int(list_int[1]) * 1000)\n",
    "#     '[{0}]'.format(int(list_int[2]) * 100)\n",
    "#     '[{0}]'.format(int(list_int[3]) * 10) \n",
    "#     '[{0}]'.format(int(list_int[4]) *1)\n",
    "    \n",
    "#     return list_int\n",
    "    "
   ]
  },
  {
   "cell_type": "code",
   "execution_count": null,
   "metadata": {},
   "outputs": [],
   "source": [
    "def INTS(n):\n",
    "# n = input()\n",
    "\n",
    "    print(\"[\"+str(int(n[0])*10000)+\"]\")\n",
    "    print(\"[\"+str(int(n[1])*1000)+\"]\")\n",
    "    print(\"[\"+str(int(n[2])*100)+\"]\")\n",
    "    print(\"[\"+str(int(n[3])*10)+\"]\")\n",
    "    print(\"[\"+str(int(n[4])*1)+\"]\")"
   ]
  },
  {
   "cell_type": "code",
   "execution_count": null,
   "metadata": {},
   "outputs": [],
   "source": [
    "INTS(75254)"
   ]
  },
  {
   "cell_type": "code",
   "execution_count": null,
   "metadata": {},
   "outputs": [],
   "source": [
    "# 1026 \n",
    "# 문제: 입력되는 시:분:초 에서 분만 출력해보자 \n",
    "# %H:%M:%S \n",
    "\n",
    "a = input().split(':')\n",
    "print(a)\n",
    "\n",
    "hour, min, second = input().split(':')\n",
    "print(int(min))"
   ]
  },
  {
   "cell_type": "code",
   "execution_count": null,
   "metadata": {},
   "outputs": [],
   "source": [
    "#1027 \n",
    "# 문제: 년월일(yyyy.mm.dd)를 입력받아, 일월년(dd-mm-yyyy)로 출력해보자.\n",
    "\n",
    "year, month, day = input().split('.')\n",
    "print('{d}-{m}-{y}'.format(d = day, m = month, y = year))"
   ]
  },
  {
   "cell_type": "code",
   "execution_count": null,
   "metadata": {},
   "outputs": [],
   "source": [
    "#1028 \n",
    "# 문제: 정수를 입력 받아서 정수 출력하기 \n",
    "intz = input()\n",
    "print(int(intz))"
   ]
  },
  {
   "cell_type": "code",
   "execution_count": null,
   "metadata": {},
   "outputs": [],
   "source": [
    "# 1029 \n",
    "# 문제: 실수 1개를 입력받아 그대로 출력해보자.\n",
    "# (단, 입력되는 실수의 범위는 +- 1.7*10-308 ~ +- 1.7*10308 이다.)\n",
    "\n",
    "intz= input()\n",
    "print('%.11f'%float(intz))\n",
    "# %.11f를 사용하면 소수점 이하 11자리 까지 출력된다 "
   ]
  },
  {
   "cell_type": "code",
   "execution_count": null,
   "metadata": {},
   "outputs": [],
   "source": [
    "# 1030 \n",
    "# 문제: 정수 1개를 입력받아 출력해주기 \n",
    "# c에서는 너무 긴거를 long long int 로 설정해줘야해서 문제인걸까? \n",
    "# 그냥 해주면 됨 \n",
    "\n",
    "intz = input()\n",
    "print(int(intz))"
   ]
  },
  {
   "cell_type": "code",
   "execution_count": null,
   "metadata": {},
   "outputs": [],
   "source": [
    "# n진수 : n개의 숫자를 이용하여 모든 수를 표현한 것 \n",
    "\n",
    "# 2진수, 8진수, 6진수, 10진수, 16진수 \n",
    "# https://xn--ex3bt1ov9l.kr/5 \n",
    "\n",
    "# https://m.blog.naver.com/PostView.nhn?blogId=brinson&logNo=220685807322&proxyReferer=https:%2F%2Fwww.google.com%2F"
   ]
  },
  {
   "cell_type": "code",
   "execution_count": null,
   "metadata": {},
   "outputs": [],
   "source": [
    "#1031 \n",
    "# 10진수를 입력 받아서 8진수로 출력해준다 \n",
    "# python의 문자열 포맷에서 %o 가 8진수 이므로, \n",
    "\n",
    "a = input()\n",
    "ten = int(a)\n",
    "print('%o' %ten)\n"
   ]
  },
  {
   "cell_type": "code",
   "execution_count": null,
   "metadata": {},
   "outputs": [],
   "source": [
    "#1032 \n",
    "# 10진수를 입력받아 16진수로 출력해보자 (%x)\n",
    "\n",
    "a = input()\n",
    "hexadecimal = int(a)\n",
    "print('%x' %hexadecimal)"
   ]
  },
  {
   "cell_type": "code",
   "execution_count": null,
   "metadata": {},
   "outputs": [],
   "source": [
    "#1033 \n",
    "# 10진수를 입력받아 16진수(hexadecimal)로 출력해보자 (%X).\n",
    "\n",
    "a = input()\n",
    "Hexadecimal = int(a)\n",
    "print('%X' %Hexadecimal)"
   ]
  },
  {
   "cell_type": "code",
   "execution_count": null,
   "metadata": {},
   "outputs": [],
   "source": [
    "#1034 \n",
    "# 8진수로 입력된 정수 1개를 10진수로 바꾸어 출력해보자.\n",
    "\n",
    "a = input()\n",
    "a = int(a, 8)\n",
    "print(a)\n",
    "\n",
    "# int(a, base)\n",
    "# a = random integer, base = 10 (put the corresponding 진수 here)\n",
    "# https://www.programiz.com/python-programming/methods/built-in/int "
   ]
  }
 ],
 "metadata": {
  "kernelspec": {
   "display_name": "Python 3",
   "language": "python",
   "name": "python3"
  },
  "language_info": {
   "codemirror_mode": {
    "name": "ipython",
    "version": 3
   },
   "file_extension": ".py",
   "mimetype": "text/x-python",
   "name": "python",
   "nbconvert_exporter": "python",
   "pygments_lexer": "ipython3",
   "version": "3.7.6"
  }
 },
 "nbformat": 4,
 "nbformat_minor": 4
}
